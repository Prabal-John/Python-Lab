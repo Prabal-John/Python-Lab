{
 "cells": [
  {
   "cell_type": "markdown",
   "metadata": {},
   "source": [
    "Prabal John - 2347246 Python Lab Exercise 1"
   ]
  },
  {
   "cell_type": "markdown",
   "metadata": {},
   "source": [
    "i)  Write a paragraph about introducing you and your selected domain (include Full Name, domain name, register number, year …….).\n",
    "    Write a python program to count the frequency of any specific word (in your domain) in the paragraph.\n",
    " \tWrite a python program to display all the datatypes of selected specific elements in the paragraph. (For example:– name - string, reg.no - int, marks - float, etc.)\n",
    "\tWrite a python program to count the number of alphabets, numeric and other special symbols in the paragraph.\n"
   ]
  },
  {
   "cell_type": "code",
   "execution_count": null,
   "metadata": {},
   "outputs": [],
   "source": [
    "name=\"Prabal\"\n",
    "full_name=\"Prabal John\"\n",
    "domain=\"HR Management System\"\n",
    "reg_no=2347246\n",
    "uni=\"Christ deemed-to-be-University\"\n",
    "ug=\"BBA\"\n",
    "marks=81.5\n",
    "print(\"I am {}, from {} with the registration no: {}. The domain I have chosen for the purposes of my python classes is {}. Having graduated from a {} with {}% , I have chosen this field as it is something that I am familiar with and am fairly confident in my understanding of an {} and its underlying operations.\" .format(full_name, uni, reg_no, domain, ug, marks, domain))\n",
    "para=\"I am Prabal John, from Christ deemed-to-be-University with the registration no: 2347246. The domain I have chosen for the purposes of my python classes is HR Management System. Having graduated from a BBA with 81.5% , I have chosen this field as it is something that I am familiar with and am fairly confident in my understanding of an HR Management System and its underlying operations.\"\n",
    "print(\"Data types are as follows\")\n",
    "print(\"Full Name :\", type(full_name))\n",
    "print(\"Domain :\", type(domain))\n",
    "print(\"Registration Number :\", type(reg_no))\n",
    "print(\"University :\", type(uni))\n",
    "print(\"Undergrad :\", type(ug))\n",
    "print(\"Marks :\", type(marks))\n",
    "count_alpha=0\n",
    "count_numeric=0\n",
    "count_special=0\n",
    "for i in range(0,len(para)):\n",
    "    if para[i].isalpha():\n",
    "        count_alpha+=1\n",
    "    elif para[i].isnumeric():\n",
    "        count_numeric+=1\n",
    "    else:\n",
    "        count_special+=1\n",
    "print(\"Number of alphabets is {}, number of numerics is {} and number of special characters (including spaces) is {}.\" .format(count_alpha, count_numeric, count_special))\n",
    "splitpara=para.split()\n",
    "count_word=0\n",
    "word=input(\"Enter a word to check how many times it appears in the passage : \")\n",
    "for i in range(0,len(splitpara)):\n",
    "    if splitpara[i].lower()==word.lower():\n",
    "        count_word+=1\n",
    "print(\"The word '{}' appears {} time(s) in the paragraph.\" .format(word, count_word))"
   ]
  },
  {
   "cell_type": "markdown",
   "metadata": {},
   "source": [
    "Create a Set with elements that consists of various data types (int, float, string, Boolean, etc. from your domain) and perform the functions pop(), clear(), discard() and del. Write the insights as docstring.\n",
    "Update the Set with minimum 5 string attributes of your domain and arrange the Set in descending order.\n",
    "Create a Tuple and Execute the packing and unpacking operations of tuples using the attributes of your domain.\n",
    "Enter your domain name as characters and count any number of characters and print the count (for example – (‘p’,’r’,’o’,’g’,’r’,’a’,’m’) count of ‘r’ = 2)\n",
    "Enter your domain name, execute all the slicing possibilities and also negative indexing.\n"
   ]
  },
  {
   "cell_type": "code",
   "execution_count": null,
   "metadata": {},
   "outputs": [],
   "source": [
    "myset={\"Prabal John\", \"Tier 2.1 Employee\", True, 720000, 2.1, \"Manager\"}\n",
    "print(myset)\n",
    "myset.pop()\n",
    "print(myset)\n",
    "myset.discard(\"Manager\")\n",
    "print(myset)\n",
    "myset.clear()\n",
    "print(myset)\n",
    "del(myset)\n",
    "##print(myset)\n",
    "'''The pop() function deletes a random set element, discard() allows you to remove a specific value from the set elements, clear() removes all set elements making the set empty and del deletes the variable entirely'''\n",
    "myset=set()\n",
    "myset2={\"emloyee\", \"salary\", \"department\", \"emp id\", \"position\"}\n",
    "myset.update(myset2)\n",
    "print(myset)\n",
    "print(sorted(myset, reverse=True))\n",
    "mytuple=(\"emloyee\", \"salary\", \"department\", \"emp id\", \"position\")\n",
    "(attr1,attr2,attr3,attr4,attr5)=mytuple\n",
    "print(attr1)\n",
    "print(attr2)\n",
    "print(attr3)\n",
    "print(attr4)\n",
    "print(attr5)\n",
    "domlist=['h', 'r', 'm', 'a', 'n', 'a', 'g', 'e', 'm', 'e', 'n', 't', 's', 'y', 's', 't', 'e', 'm' ]\n",
    "letter=input(\"Enter a word to check how many times it appears in the passage : \")\n",
    "count_letter=0\n",
    "for i in range(0,len(domlist)):\n",
    "    if domlist[i].lower()==letter.lower():\n",
    "        count_letter+=1\n",
    "print(\"The letter {} appears {} times.\" .format(letter,count_letter))"
   ]
  }
 ],
 "metadata": {
  "kernelspec": {
   "display_name": "Python 3",
   "language": "python",
   "name": "python3"
  },
  "language_info": {
   "codemirror_mode": {
    "name": "ipython",
    "version": 3
   },
   "file_extension": ".py",
   "mimetype": "text/x-python",
   "name": "python",
   "nbconvert_exporter": "python",
   "pygments_lexer": "ipython3",
   "version": "3.11.4"
  },
  "orig_nbformat": 4
 },
 "nbformat": 4,
 "nbformat_minor": 2
}
